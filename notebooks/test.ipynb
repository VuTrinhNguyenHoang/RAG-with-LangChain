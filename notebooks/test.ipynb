{
 "cells": [
  {
   "cell_type": "markdown",
   "id": "6b5aa2bc",
   "metadata": {},
   "source": [
    "# Retrieval Augmented Generation (RAG) with LangChain\n",
    "\n",
    "This notebook builds a Retrieval Augmented Generation (RAG) system using LangChain and HuggingFace embeddings. The main functionalities include:\n",
    "\n",
    "1. Loading documents from the knowledge-base directory\n",
    "2. Splitting documents into smaller chunks\n",
    "3. Creating vector embeddings for each chunk\n",
    "4. Storing vectors in Chroma vector database\n",
    "5. Building a chat application using RAG with Gemini API\n",
    "\n",
    "## Installation and Library Imports"
   ]
  },
  {
   "cell_type": "code",
   "execution_count": 1,
   "id": "d8ff094a",
   "metadata": {},
   "outputs": [],
   "source": [
    "from langchain.document_loaders import DirectoryLoader, TextLoader\n",
    "from langchain.text_splitter import RecursiveCharacterTextSplitter\n",
    "from langchain.memory import ConversationBufferWindowMemory  \n",
    "from langchain.chains import ConversationalRetrievalChain\n",
    "from langchain_google_genai import ChatGoogleGenerativeAI\n",
    "from langchain.embeddings import HuggingFaceEmbeddings\n",
    "from langchain_chroma import Chroma\n",
    "\n",
    "from sklearn.manifold import TSNE\n",
    "import plotly.graph_objects as go\n",
    "\n",
    "import numpy as np\n",
    "import os\n",
    "import glob\n",
    "import time\n",
    "\n",
    "from dotenv import load_dotenv\n",
    "\n",
    "DB_NAME = \"vector_db\""
   ]
  },
  {
   "cell_type": "markdown",
   "id": "82aff97a",
   "metadata": {},
   "source": [
    "## 1. Loading Documents from Knowledge Base\n",
    "\n",
    "Load all markdown files from the `knowledge-base` directory and its subdirectories. Documents are assigned metadata to categorize them based on folder names."
   ]
  },
  {
   "cell_type": "code",
   "execution_count": 2,
   "id": "96fe5370",
   "metadata": {},
   "outputs": [
    {
     "name": "stdout",
     "output_type": "stream",
     "text": [
      "Total documents loaded: 17\n"
     ]
    }
   ],
   "source": [
    "# Get list of directories in knowledge-base\n",
    "folders = glob.glob(\"../knowledge-base/*\")\n",
    "text_loader_kwargs = {\"autodetect_encoding\": True}\n",
    "\n",
    "# Initialize list to hold documents\n",
    "documents = []\n",
    "\n",
    "# Loop through each folder to load documents\n",
    "for folder in folders:\n",
    "    # Use folder name as document type\n",
    "    doc_type = os.path.basename(folder)\n",
    "    \n",
    "    # Create loader for all .md files in the folder\n",
    "    loader = DirectoryLoader(folder, glob=\"**/*.md\", loader_cls=TextLoader, loader_kwargs=text_loader_kwargs)\n",
    "    \n",
    "    # Load documents from the folder\n",
    "    folder_docs = loader.load()\n",
    "    \n",
    "    # Add metadata and append to main list\n",
    "    for doc in folder_docs:\n",
    "        doc.metadata[\"doc_type\"] = doc_type\n",
    "        documents.append(doc)\n",
    "\n",
    "print(\"Total documents loaded:\", len(documents))"
   ]
  },
  {
   "cell_type": "markdown",
   "id": "7c5d7065",
   "metadata": {},
   "source": [
    "### 1.1. Examining Loaded Documents"
   ]
  },
  {
   "cell_type": "code",
   "execution_count": 3,
   "id": "d3200ab0",
   "metadata": {},
   "outputs": [
    {
     "data": {
      "text/plain": [
       "Document(metadata={'source': '../knowledge-base/company/about.md', 'doc_type': 'company'}, page_content='# Về Công Ty - Korea Study Consultant Center\\n\\n## Lịch Sử Thành Lập\\n\\nKorea Study Consultant Center được thành lập vào năm 2018 với sứ mệnh kết nối các bạn trẻ Việt Nam với hệ thống giáo dục chất lượng cao của Hàn Quốc. Được sáng lập bởi các chuyên gia giáo dục có nhiều năm kinh nghiệm tại Hàn Quốc, chúng tôi đã hỗ trợ hơn 2,000 học sinh Việt Nam thực hiện ước mơ du học tại xứ sở kim chi.\\n\\n## Tầm Nhìn & Sứ Mệnh\\n\\n### Tầm Nhìn\\nTrở thành trung tâm tư vấn du học Hàn Quốc hàng đầu tại Việt Nam, mang đến cơ hội giáo dục tốt nhất cho thế hệ trẻ Việt Nam.\\n\\n### Sứ Mệnh\\n- Cung cấp dịch vụ tư vấn du học chuyên nghiệp và uy tín\\n- Hỗ trợ toàn diện từ khâu chuẩn bị hồ sơ đến khi định cư tại Hàn Quốc\\n- Xây dựng cầu nối văn hóa và giáo dục giữa Việt Nam và Hàn Quốc\\n- Đảm bảo tỷ lệ thành công cao nhất cho học sinh\\n\\n## Giá Trị Cốt Lõi\\n\\n### 1. Chuyên Nghiệp\\n- Đội ngũ tư vấn viên có bằng cấp chuyên môn cao\\n- Quy trình làm việc rõ ràng, minh bạch\\n- Cập nhật thông tin mới nhất về chính sách du học\\n\\n### 2. Tận Tâm\\n- Đồng hành cùng học sinh từ A đến Z\\n- Hỗ trợ 24/7 trong suốt quá trình du học\\n- Quan tâm đến từng nhu cầu cá nhân của học sinh\\n\\n### 3. Uy Tín\\n- Đối tác chính thức với hơn 50 trường đại học Hàn Quốc\\n- Tỷ lệ đậu visa 98.5% trong 5 năm qua\\n- Được Bộ Giáo dục Hàn Quốc công nhận\\n\\n### 4. Hiệu Quả\\n- Rút ngắn thời gian xử lý hồ sơ\\n- Chi phí hợp lý, minh bạch\\n- Cam kết hoàn tiền nếu không đậu visa\\n\\n## Thành Tựu Nổi Bật\\n\\n### Số Liệu Thống Kê\\n- **2,000+** học sinh được hỗ trợ thành công\\n- **98.5%** tỷ lệ đậu visa du học\\n- **50+** trường đại học đối tác\\n- **95%** học sinh hài lòng với dịch vụ\\n\\n### Giải Thưởng\\n- **2022**: Trung tâm tư vấn du học uy tín nhất Việt Nam\\n- **2021**: Đại lý chính thức xuất sắc của Đại học Yonsei\\n- **2020**: Top 3 công ty tư vấn du học Hàn Quốc tại Việt Nam\\n\\n## Đội Ngũ Lãnh Đạo\\n\\n### Giám Đốc Điều Hành\\n**Bà Nguyễn Thị Lan** - 15 năm kinh nghiệm trong lĩnh vực giáo dục quốc tế, từng học tập và làm việc tại Hàn Quốc 8 năm.\\n\\n### Phó Giám Đốc\\n**Ông Park Min Jae** - Chuyên gia người Hàn Quốc, có hơn 10 năm kinh nghiệm tư vấn giáo dục cho sinh viên quốc tế.\\n\\n## Văn Phòng & Cơ Sở Vật Chất\\n\\n### Trụ Sở Chính - Hà Nội\\n- Địa chỉ: Tầng 12, Tòa nhà Lotte Center, 54 Liễu Giai, Ba Đình, Hà Nội\\n- Diện tích: 500m² với đầy đủ tiện nghi hiện đại\\n- Phòng tư vấn riêng biệt, không gian thoải mái\\n\\n### Chi Nhánh TP.HCM\\n- Địa chỉ: Tầng 8, Tòa nhà Bitexco, 2 Hải Triều, Quận 1, TP.HCM\\n- Diện tích: 300m² phục vụ khu vực miền Nam\\n\\n### Văn Phòng Đại Diện Tại Hàn Quốc\\n- Seoul: Gangnam-gu, hỗ trợ học sinh sau khi đến Hàn Quốc\\n- Busan: Haeundae-gu, phục vụ khu vực miền Nam Hàn Quốc\\n\\n## Cam Kết Chất Lượng\\n\\n- **Minh bạch**: Công khai mọi chi phí và quy trình\\n- **Bảo mật**: Đảm bảo thông tin cá nhân của học sinh\\n- **Hỗ trợ lâu dài**: Không chỉ đến khi đậu visa mà còn hỗ trợ suốt quá trình học tập\\n- **Cập nhật liên tục**: Thông tin mới nhất về chính sách, học bổng\\n\\n## Liên Hệ\\n\\n**Hotline**: 1900-6789  \\n**Email**: info@koreastudyvn.com  \\n**Website**: www.koreastudyvn.com  \\n**Giờ làm việc**: 8:00 - 18:00 (Thứ 2 - Chủ nhật)')"
      ]
     },
     "execution_count": 3,
     "metadata": {},
     "output_type": "execute_result"
    }
   ],
   "source": [
    "documents[0]"
   ]
  },
  {
   "cell_type": "markdown",
   "id": "6af8c66e",
   "metadata": {},
   "source": [
    "## 2. Splitting Documents into Chunks\n",
    "\n",
    "Using RecursiveCharacterTextSplitter to divide documents into smaller chunks of appropriate length, with some overlap to maintain context."
   ]
  },
  {
   "cell_type": "code",
   "execution_count": 4,
   "id": "c63e59a0",
   "metadata": {},
   "outputs": [
    {
     "name": "stdout",
     "output_type": "stream",
     "text": [
      "Created 135 chunks\n"
     ]
    }
   ],
   "source": [
    "text_splitter = RecursiveCharacterTextSplitter(\n",
    "    chunk_size=1024,\n",
    "    chunk_overlap=256,\n",
    "    separators=[\"\\n\\n\", \"\\n\", \". \", \" \", \"\"]\n",
    ")\n",
    "\n",
    "chunks = text_splitter.split_documents(documents)\n",
    "print(f\"Created {len(chunks)} chunks\")"
   ]
  },
  {
   "cell_type": "markdown",
   "id": "6b513b60",
   "metadata": {},
   "source": [
    "### 2.1. Examining Created Chunks"
   ]
  },
  {
   "cell_type": "code",
   "execution_count": 5,
   "id": "b50e4719",
   "metadata": {},
   "outputs": [
    {
     "data": {
      "text/plain": [
       "Document(metadata={'source': '../knowledge-base/company/overview.md', 'doc_type': 'company'}, page_content='### Văn Phòng Đại Diện Seoul\\n📍 **Địa chỉ**: #1203, Gangnam Finance Center, Gangnam-gu, Seoul, South Korea  \\n📞 **Điện thoại**: +82-2-558-9876  \\n📧 **Email**: seoul@koreastudyvn.com  \\n\\n## Thông Tin Liên Lạc Nhanh\\n\\n🌐 **Website**: www.koreastudyvn.com  \\n📱 **Hotline**: 1900-6789  \\n💬 **Zalo**: 0901-234-567  \\n📘 **Facebook**: Korea Study Consultant Center Vietnam  \\n📸 **Instagram**: @koreastudyvn  \\n🎬 **YouTube**: Korea Study VN  \\n💼 **LinkedIn**: Korea Study Consultant Center  \\n\\n## Giấy Phép & Chứng Nhận\\n\\n### Giấy Phép Hoạt Động\\n- **Giấy phép kinh doanh**: Số 0123456789-001, cấp ngày 15/03/2018\\n- **Giấy phép hoạt động tư vấn du học**: Số EDU-2018-VN-001\\n- **Chứng nhận ISO 9001:2015**: Quản lý chất lượng dịch vụ\\n\\n### Thành Viên Của\\n- **Hiệp hội Tư vấn Du học Việt Nam (VIECA)**\\n- **Liên minh Giáo dục Việt Nam - Hàn Quốc**\\n- **Mạng lưới Đối tác Giáo dục Quốc tế (IEPN)**')"
      ]
     },
     "execution_count": 5,
     "metadata": {},
     "output_type": "execute_result"
    }
   ],
   "source": [
    "chunks[5]"
   ]
  },
  {
   "cell_type": "code",
   "execution_count": 6,
   "id": "0747589c",
   "metadata": {},
   "outputs": [
    {
     "name": "stdout",
     "output_type": "stream",
     "text": [
      "Document types found: schools, company, visas, employees\n"
     ]
    }
   ],
   "source": [
    "doc_types = set(chunk.metadata['doc_type'] for chunk in chunks)\n",
    "print(f\"Document types found: {', '.join(doc_types)}\")"
   ]
  },
  {
   "cell_type": "markdown",
   "id": "5a85aece",
   "metadata": {},
   "source": [
    "## 3. Creating Vector Embeddings and Storing in Chroma Database\n",
    "\n",
    "Using HuggingFace model to create vector embeddings for text chunks, then storing them in a Chroma database."
   ]
  },
  {
   "cell_type": "code",
   "execution_count": 7,
   "id": "45c38509",
   "metadata": {},
   "outputs": [
    {
     "name": "stderr",
     "output_type": "stream",
     "text": [
      "/tmp/ipykernel_39678/1518569295.py:1: LangChainDeprecationWarning: The class `HuggingFaceEmbeddings` was deprecated in LangChain 0.2.2 and will be removed in 1.0. An updated version of the class exists in the :class:`~langchain-huggingface package and should be used instead. To use it run `pip install -U :class:`~langchain-huggingface` and import as `from :class:`~langchain_huggingface import HuggingFaceEmbeddings``.\n",
      "  embeddings = HuggingFaceEmbeddings(model_name=\"sentence-transformers/all-MiniLM-L6-v2\")\n",
      "/home/hoangvu/RAG-with-LangChain/venv/lib/python3.10/site-packages/tqdm/auto.py:21: TqdmWarning: IProgress not found. Please update jupyter and ipywidgets. See https://ipywidgets.readthedocs.io/en/stable/user_install.html\n",
      "  from .autonotebook import tqdm as notebook_tqdm\n"
     ]
    }
   ],
   "source": [
    "embeddings = HuggingFaceEmbeddings(model_name=\"sentence-transformers/all-MiniLM-L6-v2\")\n",
    "\n",
    "if os.path.exists(DB_NAME):\n",
    "    Chroma(persist_directory=DB_NAME, embedding_function=embeddings).delete_collection()"
   ]
  },
  {
   "cell_type": "code",
   "execution_count": 8,
   "id": "9a921180",
   "metadata": {},
   "outputs": [
    {
     "name": "stderr",
     "output_type": "stream",
     "text": [
      "/home/hoangvu/RAG-with-LangChain/venv/lib/python3.10/site-packages/torch/nn/modules/module.py:1762: FutureWarning: `encoder_attention_mask` is deprecated and will be removed in version 4.55.0 for `BertSdpaSelfAttention.forward`.\n",
      "  return forward_call(*args, **kwargs)\n"
     ]
    },
    {
     "name": "stdout",
     "output_type": "stream",
     "text": [
      "Vectorstore created with 135 documents\n"
     ]
    }
   ],
   "source": [
    "vectorstore = Chroma.from_documents(\n",
    "    documents=chunks,\n",
    "    embedding=embeddings,\n",
    "    persist_directory=DB_NAME\n",
    ")\n",
    "\n",
    "print(f\"Vectorstore created with {vectorstore._collection.count()} documents\")"
   ]
  },
  {
   "cell_type": "code",
   "execution_count": 9,
   "id": "fb3a0a35",
   "metadata": {},
   "outputs": [
    {
     "name": "stdout",
     "output_type": "stream",
     "text": [
      "The vectors have 384 dimensions\n"
     ]
    }
   ],
   "source": [
    "collection = vectorstore._collection\n",
    "\n",
    "sample_embedding = collection.get(limit=1, include=[\"embeddings\"])[\"embeddings\"][0]\n",
    "\n",
    "dimensions = len(sample_embedding)\n",
    "print(f\"The vectors have {dimensions:,} dimensions\")"
   ]
  },
  {
   "cell_type": "code",
   "execution_count": 10,
   "id": "a9f46892",
   "metadata": {},
   "outputs": [
    {
     "data": {
      "text/plain": [
       "array([-4.62564491e-02,  1.97377615e-02,  5.19227646e-02, -6.66938350e-02,\n",
       "       -2.26987321e-02,  1.27717359e-02,  7.94795156e-02,  1.46346195e-02,\n",
       "        5.64175658e-02,  1.37510812e-02,  1.15849324e-01, -6.65821955e-02,\n",
       "        3.20206187e-03, -3.47903855e-02, -3.53573225e-02, -4.56932969e-02,\n",
       "       -4.71743979e-02,  1.45339761e-02, -4.97469343e-02, -9.72204804e-02,\n",
       "       -1.14383707e-02,  8.46363837e-04, -1.46946963e-03, -3.99394003e-06,\n",
       "       -7.87993334e-03,  2.86254417e-02, -3.68046276e-02,  4.76785488e-02,\n",
       "        2.19761226e-02, -8.49490520e-04, -3.24455053e-02,  1.46460757e-01,\n",
       "       -1.51343085e-02, -1.45951333e-02,  4.59653884e-02,  2.21654009e-02,\n",
       "       -2.31053289e-02,  1.39798019e-02,  3.91129553e-02,  7.46086799e-03,\n",
       "       -6.55276626e-02, -6.74750954e-02,  4.91987988e-02, -7.31474012e-02,\n",
       "        5.80212772e-02,  8.07655044e-03, -7.41121247e-02, -2.56642159e-02,\n",
       "        6.78543147e-05, -4.59108222e-03, -2.01404691e-02,  6.04366995e-02,\n",
       "        6.14164257e-03,  6.07550889e-02, -1.16554402e-01,  2.63272841e-02,\n",
       "        3.07898119e-07,  4.25793193e-02,  4.52242717e-02, -7.16599971e-02,\n",
       "       -8.55191424e-02,  4.14135121e-02, -1.76180191e-02, -4.76949774e-02,\n",
       "        5.20777889e-02, -6.32457389e-03, -1.48879942e-02,  1.63136830e-03,\n",
       "       -1.53225185e-02,  1.65137455e-01,  3.90099213e-02,  2.41603726e-03,\n",
       "       -3.24241519e-02,  7.89984316e-02, -5.34438118e-02,  5.85628003e-02,\n",
       "       -4.59066667e-02,  8.81678425e-03,  4.77151908e-02, -8.41493905e-02,\n",
       "        1.89446304e-02,  2.25525256e-02,  7.29775727e-02, -4.66644689e-02,\n",
       "       -1.05730563e-01,  4.13805917e-02, -4.91392277e-02, -3.14215310e-02,\n",
       "       -2.32053213e-02, -4.55873311e-02,  3.11468411e-02,  4.26075421e-02,\n",
       "       -2.12290734e-02, -2.96101738e-02, -3.85919809e-02, -3.55294859e-03,\n",
       "       -3.27547453e-02,  9.29614156e-02, -3.89647335e-02,  3.97603586e-02,\n",
       "        7.54677951e-02,  7.18036294e-02, -3.01422700e-02, -9.46305916e-02,\n",
       "       -6.37961328e-02,  1.19304303e-02,  6.85310066e-02, -1.08309593e-02,\n",
       "        3.84374708e-02,  1.47142485e-02, -5.87505437e-02,  2.55822297e-02,\n",
       "       -4.31277566e-02, -1.15436710e-01, -5.81917353e-03, -2.90395003e-02,\n",
       "        2.61302292e-02, -1.47770578e-02, -5.86303733e-02,  8.22260827e-02,\n",
       "       -2.14472525e-02,  5.12532250e-04, -1.15418762e-01, -1.15920696e-02,\n",
       "       -2.39342004e-02, -7.76597187e-02,  3.59102935e-02,  2.11717362e-32,\n",
       "        2.34714840e-02,  4.99157235e-02,  8.12564045e-02, -5.14806062e-02,\n",
       "        3.27516696e-03, -1.93692558e-02, -3.05139832e-02, -5.84671944e-02,\n",
       "       -5.52974194e-02, -8.85052700e-03, -3.03823557e-02, -4.06125076e-02,\n",
       "       -6.63857087e-02, -9.28576812e-02,  3.91267100e-03, -4.19443138e-02,\n",
       "        2.62460746e-02, -9.49421674e-02, -7.74927512e-02, -1.05120046e-02,\n",
       "        3.70853171e-02,  1.94267929e-02,  2.81570666e-02, -1.25608919e-02,\n",
       "        2.01782454e-02, -1.46715564e-03, -4.10801694e-02, -5.78496009e-02,\n",
       "        2.76538655e-02,  5.46407141e-02,  1.46591663e-02,  4.11772169e-02,\n",
       "        6.59556361e-03, -4.71247546e-02, -1.02948852e-01, -4.69900779e-02,\n",
       "        3.73399188e-03, -2.43562050e-02, -6.23957142e-02, -1.06830765e-02,\n",
       "        5.17164208e-02,  2.95069013e-02, -2.98932083e-02,  6.12785807e-03,\n",
       "        4.42371616e-04,  7.31067210e-02,  3.82543611e-03, -7.74848915e-04,\n",
       "        5.83438389e-02, -2.49980576e-02, -2.61823274e-02, -4.69865091e-02,\n",
       "       -1.41307577e-01,  3.54256555e-02,  1.34998798e-01, -5.18151633e-02,\n",
       "        9.32585541e-03, -2.16636416e-02,  1.91864949e-02,  5.04496433e-02,\n",
       "        3.43379602e-02, -1.06962379e-02, -8.41653999e-03,  8.24968964e-02,\n",
       "       -1.67702883e-02, -8.85472819e-02, -2.67112926e-02, -1.51218064e-02,\n",
       "        3.86854187e-02, -5.91286570e-02, -8.18256438e-02, -3.79409082e-02,\n",
       "       -5.69940917e-02,  5.68092652e-02, -4.58770022e-02, -2.81814057e-02,\n",
       "        4.57995795e-02, -9.66960378e-03,  3.41078863e-02,  2.16722097e-02,\n",
       "        2.22632959e-02, -6.46540299e-02, -9.42388643e-03, -5.69125973e-02,\n",
       "        5.39660901e-02,  1.00131459e-04,  9.07368865e-03, -1.38454378e-01,\n",
       "       -9.29874834e-03,  5.72660752e-03, -5.25377057e-02,  2.97743361e-02,\n",
       "        7.07608536e-02, -3.30340378e-02, -8.83500129e-02, -1.93335481e-32,\n",
       "        3.44762392e-02,  5.05087562e-02, -2.72852909e-02,  6.62364140e-02,\n",
       "        3.45307812e-02,  2.93159503e-02,  2.15593707e-02, -3.64331864e-02,\n",
       "        7.84796998e-02, -4.99300957e-02, -5.27265202e-03, -7.26836622e-02,\n",
       "        8.50783661e-03,  5.67359701e-02,  3.03140804e-02,  1.69011634e-02,\n",
       "        8.06959793e-02,  5.28909378e-02, -8.62326100e-03,  6.27193674e-02,\n",
       "       -5.22167496e-02, -4.27311957e-02,  1.04870098e-02,  6.39820322e-02,\n",
       "       -5.21265119e-02,  2.98135523e-02,  7.09723458e-02,  2.29393654e-02,\n",
       "        5.59949391e-02,  7.34582618e-02, -5.15206577e-03, -8.94166082e-02,\n",
       "       -5.76154925e-02,  1.14603475e-01,  3.98699008e-02, -8.34668279e-02,\n",
       "        7.68968910e-02,  1.07170800e-02, -6.81967437e-02,  5.83615415e-02,\n",
       "       -1.65377173e-03, -3.15217227e-02, -1.76566560e-02, -4.22865562e-02,\n",
       "       -3.57144400e-02, -6.59544170e-02,  1.62729304e-02, -1.76485325e-03,\n",
       "       -6.54898062e-02, -8.50752965e-02,  1.16125382e-01, -4.08829227e-02,\n",
       "       -4.13370095e-02,  1.58901159e-02,  9.57211421e-04,  2.09069271e-02,\n",
       "       -1.22301597e-02, -8.04259032e-02, -6.70536608e-02, -3.28179300e-02,\n",
       "        4.85535449e-04,  4.42249477e-02, -5.84395602e-02, -2.52236705e-02,\n",
       "        2.26342306e-02, -5.80531284e-02,  6.17490634e-02,  3.80215235e-03,\n",
       "        2.21387018e-02, -7.86133707e-02, -3.36231254e-02, -1.15055144e-01,\n",
       "       -6.87204814e-03, -3.58323045e-02,  1.35868508e-02,  7.07980059e-03,\n",
       "        9.54054948e-03,  3.30841802e-02,  3.40490341e-02, -7.02520460e-02,\n",
       "       -1.16511971e-01,  9.11214016e-03, -7.69253001e-02,  3.65607217e-02,\n",
       "       -2.23784940e-03,  1.08741790e-01, -3.71586196e-02, -1.47316689e-02,\n",
       "        5.46055399e-02,  3.09431069e-02,  2.81013176e-02,  4.69936104e-03,\n",
       "        8.61416608e-02,  7.50699341e-02,  2.87096365e-03, -5.50243939e-08,\n",
       "        3.60641181e-02, -6.63770512e-02, -1.27752209e-02,  4.89285961e-03,\n",
       "        2.70037949e-02, -2.71529658e-03,  6.25053560e-03, -1.14734977e-01,\n",
       "        5.65702794e-03,  5.94369508e-02,  3.57730463e-02,  1.91515591e-02,\n",
       "        6.28137379e-04, -1.56362150e-02, -4.78435345e-02,  1.10434160e-01,\n",
       "        9.84069146e-03,  7.37176985e-02,  9.86098498e-03, -8.24919492e-02,\n",
       "        8.52704886e-03, -2.32023150e-02,  3.73061001e-02,  6.42021000e-03,\n",
       "       -5.10540679e-02,  9.66432765e-02, -4.90388945e-02,  9.75216404e-02,\n",
       "       -2.78278757e-02, -6.73730392e-03,  5.16093075e-02, -1.57273859e-02,\n",
       "       -3.84716019e-02, -5.60984164e-02,  8.85162801e-02, -9.60857887e-03,\n",
       "        2.51631755e-02, -6.68811332e-03,  2.10751723e-02,  8.93926248e-02,\n",
       "        3.01329382e-02,  3.28658335e-02,  3.90974618e-02,  2.15649884e-02,\n",
       "        3.57238352e-02, -1.33726010e-02,  7.45953247e-02,  6.35691360e-03,\n",
       "        1.00104557e-02, -1.93413086e-02, -9.50102285e-02, -2.14135125e-02,\n",
       "        3.31808217e-02,  1.35441972e-02,  2.03714110e-02,  6.06837720e-02,\n",
       "        7.39478692e-02,  4.88520674e-02, -6.41071890e-03, -1.91172808e-02,\n",
       "        7.23958388e-02,  8.58843327e-03, -7.27604255e-02, -1.63195189e-02])"
      ]
     },
     "execution_count": 10,
     "metadata": {},
     "output_type": "execute_result"
    }
   ],
   "source": [
    "sample_embedding"
   ]
  },
  {
   "cell_type": "markdown",
   "id": "45db4d9b",
   "metadata": {},
   "source": [
    "## 4. Visualizing Vector Embeddings with TSNE\n",
    "\n",
    "Using TSNE to reduce vector embeddings from high dimensions to 2D for visualization of relationships between vectors. Each point represents a text chunk, with colors indicating document type."
   ]
  },
  {
   "cell_type": "code",
   "execution_count": 11,
   "id": "c5bebde8",
   "metadata": {},
   "outputs": [],
   "source": [
    "result = collection.get(include=['embeddings', 'documents', 'metadatas'])\n",
    "\n",
    "vectors = np.array(result['embeddings'])\n",
    "\n",
    "documents = result['documents']\n",
    "\n",
    "doc_types = [metadata['doc_type'] for metadata in result['metadatas']]\n",
    "\n",
    "colors = [['blue', 'green', 'red', 'orange'][['company', 'employees', 'visas', 'schools'].index(t)] for t in doc_types]"
   ]
  },
  {
   "cell_type": "code",
   "execution_count": 12,
   "id": "1cd8fa10",
   "metadata": {},
   "outputs": [
    {
     "data": {
      "application/vnd.plotly.v1+json": {
       "config": {
        "plotlyServerURL": "https://plot.ly"
       },
       "data": [
        {
         "hoverinfo": "text",
         "marker": {
          "color": [
           "blue",
           "blue",
           "blue",
           "blue",
           "blue",
           "blue",
           "blue",
           "blue",
           "blue",
           "blue",
           "blue",
           "blue",
           "blue",
           "blue",
           "blue",
           "blue",
           "blue",
           "red",
           "red",
           "red",
           "red",
           "red",
           "red",
           "red",
           "red",
           "red",
           "red",
           "red",
           "red",
           "red",
           "red",
           "red",
           "red",
           "red",
           "red",
           "red",
           "orange",
           "orange",
           "orange",
           "orange",
           "orange",
           "orange",
           "orange",
           "orange",
           "orange",
           "orange",
           "orange",
           "orange",
           "orange",
           "orange",
           "orange",
           "orange",
           "orange",
           "orange",
           "orange",
           "orange",
           "orange",
           "orange",
           "orange",
           "orange",
           "orange",
           "orange",
           "orange",
           "orange",
           "orange",
           "orange",
           "orange",
           "orange",
           "orange",
           "orange",
           "orange",
           "orange",
           "orange",
           "orange",
           "orange",
           "orange",
           "orange",
           "orange",
           "orange",
           "orange",
           "orange",
           "orange",
           "orange",
           "orange",
           "orange",
           "orange",
           "orange",
           "orange",
           "orange",
           "orange",
           "orange",
           "orange",
           "orange",
           "orange",
           "orange",
           "orange",
           "green",
           "green",
           "green",
           "green",
           "green",
           "green",
           "green",
           "green",
           "green",
           "green",
           "green",
           "green",
           "green",
           "green",
           "green",
           "green",
           "green",
           "green",
           "green",
           "green",
           "green",
           "green",
           "green",
           "green",
           "green",
           "green",
           "green",
           "green",
           "green",
           "green",
           "green",
           "green",
           "green",
           "green",
           "green",
           "green",
           "green",
           "green",
           "green"
          ],
          "opacity": 0.8,
          "size": 5
         },
         "mode": "markers",
         "text": [
          "Type: company<br>Text: # Về Công Ty - Korea Study Consultant Center\n\n## L...",
          "Type: company<br>Text: ## Giá Trị Cốt Lõi\n\n### 1. Chuyên Nghiệp\n- Đội ngũ...",
          "Type: company<br>Text: ### Giải Thưởng\n- **2022**: Trung tâm tư vấn du họ...",
          "Type: company<br>Text: ### Văn Phòng Đại Diện Tại Hàn Quốc\n- Seoul: Gangn...",
          "Type: company<br>Text: # Tổng Quan Công Ty - Korea Study Consultant Cente...",
          "Type: company<br>Text: ### Văn Phòng Đại Diện Seoul\n📍 **Địa chỉ**: #1203,...",
          "Type: company<br>Text: ### Thành Viên Của\n- **Hiệp hội Tư vấn Du học Việt...",
          "Type: company<br>Text: ### Tổng Số Nhân Viên: **32 người**\n\n## Thống Kê H...",
          "Type: company<br>Text: ### Language Institutes\n- Yonsei Korean Language I...",
          "Type: company<br>Text: ## Chính Sách Dịch Vụ\n\n### Cam Kết Chất Lượng\n- Tư...",
          "Type: company<br>Text: # Dịch Vụ Tư Vấn - Korea Study Consultant Center\n\n...",
          "Type: company<br>Text: ### Chi Phí: \n- **Miễn phí** cho tư vấn cơ bản (1-...",
          "Type: company<br>Text: ### Chi Phí:\n- **Gói cơ bản**: 5,000,000 VNĐ\n- **G...",
          "Type: company<br>Text: ## 4. Học Tiếng Hàn\n\n### Các Khóa Học:\n- **Tiếng H...",
          "Type: company<br>Text: ## 5. Hỗ Trợ Học Bổng\n\n### Loại Học Bổng:\n- **Học ...",
          "Type: company<br>Text: ### Hỗ Trợ Học Tập:\n- Hướng dẫn đăng ký môn học\n- ...",
          "Type: company<br>Text: ## Liên Hệ Tư Vấn\n\n**Hotline**: 1900-6789  \n**Emai...",
          "Type: visas<br>Text: # Visa Học Tiếng Hàn D-4-1 (D-4-1 Korean Language ...",
          "Type: visas<br>Text: ### 2. Tài Chính\n- **Tài chính tối thiểu:** 9,000-...",
          "Type: visas<br>Text: 4. **Sogang Korean Language Education Center**\n   ...",
          "Type: visas<br>Text: ### Giấy Tờ Bổ Sung\n- **Thư động cơ** học tiếng Hà...",
          "Type: visas<br>Text: ## Lịch Khai Giảng\n\n### Lịch Học Hàng Năm\n- **Học ...",
          "Type: visas<br>Text: ## Quyền Lợi và Hạn Chế\n\n### Được Phép\n- Học tiếng...",
          "Type: visas<br>Text: ## Chuyển Đổi Visa\n\n### Sang Visa D-2 (Du học chín...",
          "Type: visas<br>Text: ## Liên Hệ Hỗ Trợ\nĐể được tư vấn chi tiết về visa ...",
          "Type: visas<br>Text: # Visa Du Học D-2 (D-2 Student Visa)\n\n## Tổng Quan...",
          "Type: visas<br>Text: ### 2. Năng Lực Tiếng Hàn\n- TOPIK Level 3 trở lên ...",
          "Type: visas<br>Text: ### Giấy Tờ Bổ Sung\n- Chứng chỉ TOPIK (nếu có)\n- C...",
          "Type: visas<br>Text: ### Bước 3: Chờ Kết Quả\n- Thời gian xử lý: 5-10 ng...",
          "Type: visas<br>Text: ## Liên Hệ Hỗ Trợ\nĐể được tư vấn chi tiết về visa ...",
          "Type: visas<br>Text: # Visa Học Tập D-4 (D-4 General Trainee Visa)\n\n## ...",
          "Type: visas<br>Text: ## Thời Hạn Visa\n- **Thời gian cấp:** 6 tháng - 2 ...",
          "Type: visas<br>Text: ### Giấy Tờ Theo Loại Visa\n**D-4-1 (Học tiếng Hàn)...",
          "Type: visas<br>Text: ### Bước 2: Chuẩn Bị Hồ Sơ Visa\n- Thu thập tất cả ...",
          "Type: visas<br>Text: ## Chuyển Đổi Visa\n\n### Từ D-4 sang D-2\n- Đỗ kỳ th...",
          "Type: visas<br>Text: ## Liên Hệ Hỗ Trợ\nĐể được tư vấn chi tiết về visa ...",
          "Type: schools<br>Text: # Đại học Nữ Ewha (Ewha Womans University)\n\n## Tổn...",
          "Type: schools<br>Text: ### Trường Y học\n- **Y khoa (6 năm)**\n- **Điều dưỡ...",
          "Type: schools<br>Text: ### Scranton College (Liberal Arts)\n- **Internatio...",
          "Type: schools<br>Text: ### Chương trình đặc biệt\n- **Scranton College:** ...",
          "Type: schools<br>Text: ### Chi phí sinh hoạt (Seoul)\n- **Ký túc xá:** 600...",
          "Type: schools<br>Text: ### Specialized Scholarships\n- **Women in STEM Sch...",
          "Type: schools<br>Text: ### Campus Culture\n- **Sisterhood:** Strong bonds ...",
          "Type: schools<br>Text: ### International Exchange\n- **400+ partner univer...",
          "Type: schools<br>Text: # Đại học Yonsei (Yonsei University)\n\n## Tổng quan...",
          "Type: schools<br>Text: ### Khoa Y học\n- Y khoa (6 năm)\n- Nha khoa (6 năm)...",
          "Type: schools<br>Text: ### Sinh viên quốc tế (Graduate)\n- **Học lực:** Bằ...",
          "Type: schools<br>Text: ### Chi phí sinh hoạt\n- **Ký túc xá:** 800,000-1,5...",
          "Type: schools<br>Text: ### Campus Sinchon\n- Nằm trung tâm Seoul, gần Hong...",
          "Type: schools<br>Text: ## Cơ hội nghề nghiệp\n\n### Career Development\n- **...",
          "Type: schools<br>Text: ### Đặc điểm\n- Campus mới, hiện đại\n- Gần sân bay ...",
          "Type: schools<br>Text: ### Admissions Office\n- **Email:** admission@yonse...",
          "Type: schools<br>Text: # Đại học Quốc gia Seoul (Seoul National Universit...",
          "Type: schools<br>Text: ### Khoa Kinh doanh\n- Quản trị kinh doanh\n- Kinh t...",
          "Type: schools<br>Text: ## Học phí (năm 2024)\n\n### Sinh viên quốc tế\n- **K...",
          "Type: schools<br>Text: ### Yêu cầu duy trì học bổng\n- GPA tối thiểu 3.0/4...",
          "Type: schools<br>Text: ## Lịch học\n\n### Năm học 2024-2025\n- **Học kỳ mùa ...",
          "Type: schools<br>Text: ### Tư vấn thêm\n- Liên hệ trung tâm tư vấn du học ...",
          "Type: schools<br>Text: # Đại học Khoa học và Công nghệ Pohang (POSTECH)\n\n...",
          "Type: schools<br>Text: ## Cấu trúc học thuật\n\n### Undergraduate Departmen...",
          "Type: schools<br>Text: ### Research-focused Departments\n- **Kỹ thuật môi ...",
          "Type: schools<br>Text: ### Admissions Statistics\n- **Acceptance rate:** 5...",
          "Type: schools<br>Text: ## Học bổng\n\n### Merit-based Scholarships\n- **POSC...",
          "Type: schools<br>Text: ### Need-based Aid\n- **Low-income Family Support:*...",
          "Type: schools<br>Text: ## Campus và Cơ sở vật chất\n\n### Campus Environmen...",
          "Type: schools<br>Text: ### Residential Life\n- **On-campus living:** 95% o...",
          "Type: schools<br>Text: ### Undergraduate Research Program (URP)\n- **Manda...",
          "Type: schools<br>Text: ## Nghiên cứu Cutting-edge\n\n### AI và Machine Lear...",
          "Type: schools<br>Text: ## Cơ hội nghề nghiệp\n\n### Employment Statistics\n-...",
          "Type: schools<br>Text: ## Lịch học năm 2024-2025\n\n### Academic Calendar\n-...",
          "Type: schools<br>Text: ### Career Advantages\n- **High employment rate:** ...",
          "Type: schools<br>Text: ### Location Factors\n- **Small city:** Pohang less...",
          "Type: schools<br>Text: **Q: Có khó vào POSTECH không?**\nA: Rất khó, accep...",
          "Type: schools<br>Text: # Đại học Korea (Korea University - KU)\n\n## Tổng q...",
          "Type: schools<br>Text: ### Khoa Luật\n- **Số 1 tại Hàn Quốc về Luật**\n- Lu...",
          "Type: schools<br>Text: ### Sinh viên quốc tế (Graduate)\n- **Học lực:** Bằ...",
          "Type: schools<br>Text: ### Chi phí sinh hoạt (Seoul)\n- **Ký túc xá:** 700...",
          "Type: schools<br>Text: ## Đời sống sinh viên\n\n### Campus Anam (Seoul)\n- N...",
          "Type: schools<br>Text: ### Exchange Programs\n- 800+ trường đối tác toàn c...",
          "Type: schools<br>Text: ## Cơ hội nghề nghiệp\n\n### Career Statistics\n- **E...",
          "Type: schools<br>Text: ### Đặc điểm\n- Smaller class sizes\n- More personal...",
          "Type: schools<br>Text: ## Thách thức\n\n- Highly competitive admission\n- In...",
          "Type: schools<br>Text: # Viện Công nghệ Tiên tiến Hàn Quốc (KAIST)\n\n## Tổ...",
          "Type: schools<br>Text: - **Kỹ thuật điện và điện tử**\n  - Semiconductor E...",
          "Type: schools<br>Text: ### Graduate Programs\n- **Master's:** GPA 3.0+ với...",
          "Type: schools<br>Text: *Chi phí sinh hoạt tại Daejeon thấp hơn Seoul khoả...",
          "Type: schools<br>Text: ## Cơ sở vật chất\n\n### Campus Daejeon\n- **Diện tíc...",
          "Type: schools<br>Text: ## Đời sống sinh viên\n\n### Ký túc xá\n- **Undergrad...",
          "Type: schools<br>Text: ### Startup Ecosystem\n- **KAIST Entrepreneurship C...",
          "Type: schools<br>Text: ### Career Paths\n- **Industry R&D:** 40%\n- **Start...",
          "Type: schools<br>Text: ### Study Abroad\n- **Semester exchange:** 200+ par...",
          "Type: schools<br>Text: ### Important Dates\n- **Orientation:** 1 tuần trướ...",
          "Type: schools<br>Text: ## Ưu điểm nổi bật\n\n### Academic Excellence\n- **Wo...",
          "Type: schools<br>Text: ## Thách thức\n\n### Academic Challenges\n- **Intensi...",
          "Type: schools<br>Text: ### Robotics\n- **Humanoid robotics research**\n- **...",
          "Type: schools<br>Text: ## Câu hỏi thường gặp\n\n**Q: KAIST có khó vào không...",
          "Type: employees<br>Text: # Sarah Park - Chuyên Gia Tuyển Sinh Đại Học\n\n## T...",
          "Type: employees<br>Text: ### Chứng Chỉ Chuyên Môn\n- **TOPIK Level 6** (Tiến...",
          "Type: employees<br>Text: **Thành tích nổi bật**:\n- Hỗ trợ 280+ học sinh đậu...",
          "Type: employees<br>Text: ### Kiến Thức Đặc Biệt\n- Hiểu sâu về admission cri...",
          "Type: employees<br>Text: ### Các Trường Hợp Đặc Biệt\n- **Transfer Success**...",
          "Type: employees<br>Text: ## Hoạt Động & Đóng Góp\n\n### Trong Công Ty\n- **Lea...",
          "Type: employees<br>Text: ### Peak Season (Sep-Nov, Feb-Apr)\n- Extended hour...",
          "Type: employees<br>Text: ### Program Types\n- **Undergraduate**: Freshman & ...",
          "Type: employees<br>Text: > *\"Cô Sarah có kiến thức sâu rộng về admission pr...",
          "Type: employees<br>Text: # Alex Kim - Tư Vấn Viên Giáo Dục Hàn Quốc Cấp Cao...",
          "Type: employees<br>Text: ### Chứng Chỉ Chuyên Môn\n- **TOPIK Level 6** (Tiến...",
          "Type: employees<br>Text: ### Trước đó (2016-2018)\n**Vị trí**: Coordinator t...",
          "Type: employees<br>Text: ### Soft Skills\n- Giao tiếp xuất sắc với học sinh ...",
          "Type: employees<br>Text: ## Phong Cách Làm Việc\n\n### Phương Pháp Tư Vấn\n- *...",
          "Type: employees<br>Text: ## Thông Tin Liên Hệ\n\n📧 **Email**: alex.kim@koreas...",
          "Type: employees<br>Text: > *\"Anh Alex rất tận tâm và hiểu rõ tâm lý học sin...",
          "Type: employees<br>Text: # Ông Park Min Jae - Phó Giám Đốc (부사장)\n\n## Thông ...",
          "Type: employees<br>Text: ## Học Vấn\n\n### Bằng Cấp Chính\n- **2012**: Tiến sĩ...",
          "Type: employees<br>Text: ### 2015 - 2019: Giám đốc Tuyển sinh Quốc tế\n**Han...",
          "Type: employees<br>Text: ## Chuyên Môn & Thế Mạnh\n\n### Lĩnh Vực Chuyên Môn\n...",
          "Type: employees<br>Text: ### Chuyên Môn Tư Vấn\n- **Chương trình Thạc sĩ/Tiế...",
          "Type: employees<br>Text: ## Hoạt Động Nghiên Cứu & Xuất Bản\n\n### Sách Xuất ...",
          "Type: employees<br>Text: ### Tại Việt Nam\n- **Đại sứ quán Hàn Quốc**: Quan ...",
          "Type: employees<br>Text: ### Lịch Cố Định\n- **Thứ 2-3**: Tư vấn trực tiếp t...",
          "Type: employees<br>Text: ### Cuộc Sống Tại Việt Nam (5 năm)\n- Sống tại Tây ...",
          "Type: employees<br>Text: # Bà Nguyễn Thị Lan - Giám Đốc Điều Hành\n\n## Thông...",
          "Type: employees<br>Text: ## Kinh Nghiệm Làm Việc\n\n### 2018 - Hiện tại: Giám...",
          "Type: employees<br>Text: ### 2005 - 2008: Chuyên viên\n**Bộ Giáo dục và Đào ...",
          "Type: employees<br>Text: ### Thế Mạnh Cá Nhân\n- Khả năng lãnh đạo và truyền...",
          "Type: employees<br>Text: ## Hoạt Động Xã Hội\n\n### Tổ Chức Phi Lợi Nhuận\n- *...",
          "Type: employees<br>Text: ## Sở Thích Cá Nhân\n\n- **Đọc sách**: Sách về giáo ...",
          "Type: employees<br>Text: # Michael Lee - Điều Phối Viên Xử Lý Visa\n\n## Thôn...",
          "Type: employees<br>Text: ## Kinh Nghiệm Làm Việc\n\n### Korea Study Consultan...",
          "Type: employees<br>Text: ### Trước đó (2015-2017)\n**Vị trí**: Immigration C...",
          "Type: employees<br>Text: ### Trường Hợp Đặc Biệt\n- **Visa Appeal**: Kháng c...",
          "Type: employees<br>Text: ### Expertise Đặc Biệt\n- **High-risk profiles**: C...",
          "Type: employees<br>Text: ### Bước 4: Follow-up & Support\n- Monitor processi...",
          "Type: employees<br>Text: ### Peak Season (Admissions periods)\n- **Extended ...",
          "Type: employees<br>Text: ## Thông Tin Liên Hệ\n\n📧 **Email**: michael.lee@kor..."
         ],
         "type": "scatter",
         "x": {
          "bdata": "Ae/fP8ZQWkBixkE+9Q28v4qicsAU9YzAK/aav2WFU8CQeT7AlfcJQPXCNz/0DBhAZ/1wQLIEacDpdIo/SRYNQORxqsD7+nVAwiPYP8LpJEByu5BALOzFv0D+dECBzEJAtzH4wJKGg0CYwEpAuQySQKaHy0DoZwLBLG2uQHT4jUBxjZ5Ah+KoQBGbykAhJvrA3NWfwCnKYkBlrgJAITfWQC+kjUC1s929+faEPqFjZD4QlrXACA5OQHwsu0BMOZtAlMcnwKCGxT7n/Ji/326PP0V+vMA4aFFAuQ2mQMGF0T79ezy/8JgEQO+SscCiojTAs6+FQITLzUCGOopA586TvjG4bb9pVgK/hhzWP/rEUcBfzjLAJZMAQNsR5z3BlPY+tNECwP2Gs8BF3CBAFIGxQFzWmECy/DjAmCpYv8fbh78f/nQ/oWTePvRoqMDSECXAut/BQApGiUBZedm/VPehv3/SOMAHeeE/isAEQFeRCMDVaqk+EuxgwFudkT+mPqY/1ZaKv8eUC7/WPMw+U+DCv0LoMsCTkD2/q8/OvQSL175qV4TABCm0v5MzeL+4oBG+jecbwH5UUT/WNhjATC2RwFfxYcAk6qq/o0KovQ7uBkAs+sK/qqkwvyi3rT9uzR3ARklBPzDaU8BeawQ9WPpJQNjOhDuf8KY/t7e0v/OcvcDpT9LAPr/UwPKn4sDHKALB/E0Cwa8dC8HkMrrA",
          "dtype": "f4"
         },
         "y": {
          "bdata": "swDIQCN100AzG+FAfHnCQFsGQUDGUCxAzi8yQFP0jb+NHQNAJbn0QJH+/ECNxwxBe25eQAlcBEGN3yVBYsIXQdx7DkBIbJ5AkIUUQGK0J0C7r/dAA/4FQdkf4UAMyetAOuYTwJhwokCtCiVAygjXQDcH1ED2IQ/A1DScQL9GVEBT0K1AIB3WQBbrzUASbhbAgLLfQDpuIkHIi8HAASYAwQ9JrMCUKk7BXuxLwRv2PcGLHMJAws2XvrOBAsGAp3rAWseePSXj6cBGNpFAJd8iwFu2vkCnbKO+JCWBwLW7DkHLAp1AIyaaQG6f8UBefrTAiK8XwW/p4cCzfsDASh0MwUl9OcHXf0HBd9Q3weziD8ESMwPBhPgQwSFrHcG2+orAyqlzwN2ZrkAr/Hy+yr7/wPlvjsDjk0o/DBruwJYkAsHFlPDAwYp2wP2D6ECKDbbAoOH3wKfSrcAhDSnBnikWwR7X+8CFgDTB8PUSwQLPLsH8dRbBboMawdmUjcC7qoZAQAkFQBasKL8rsbO/XX87wBLyIMBBbzzA6ofNwLf1tsDn8mHAaoSiP64EQb1juRg/zsvJv6aQCEEeptRA7qEdwNOkiUD0lKg+Iw+4PxO410D80bi/xEv/v9l2+UC6OUZAZmS1QL0phUAPNMg/NRoGQQbp0EC3UMtAT+feQDoo177ZneG9Tc/GvhP1+D73n3I/kflOPpm8Tj51OVxA",
          "dtype": "f4"
         }
        }
       ],
       "layout": {
        "height": 600,
        "margin": {
         "b": 10,
         "l": 10,
         "r": 20,
         "t": 40
        },
        "scene": {
         "xaxis": {
          "title": {
           "text": "x"
          }
         },
         "yaxis": {
          "title": {
           "text": "y"
          }
         }
        },
        "template": {
         "data": {
          "bar": [
           {
            "error_x": {
             "color": "#2a3f5f"
            },
            "error_y": {
             "color": "#2a3f5f"
            },
            "marker": {
             "line": {
              "color": "#E5ECF6",
              "width": 0.5
             },
             "pattern": {
              "fillmode": "overlay",
              "size": 10,
              "solidity": 0.2
             }
            },
            "type": "bar"
           }
          ],
          "barpolar": [
           {
            "marker": {
             "line": {
              "color": "#E5ECF6",
              "width": 0.5
             },
             "pattern": {
              "fillmode": "overlay",
              "size": 10,
              "solidity": 0.2
             }
            },
            "type": "barpolar"
           }
          ],
          "carpet": [
           {
            "aaxis": {
             "endlinecolor": "#2a3f5f",
             "gridcolor": "white",
             "linecolor": "white",
             "minorgridcolor": "white",
             "startlinecolor": "#2a3f5f"
            },
            "baxis": {
             "endlinecolor": "#2a3f5f",
             "gridcolor": "white",
             "linecolor": "white",
             "minorgridcolor": "white",
             "startlinecolor": "#2a3f5f"
            },
            "type": "carpet"
           }
          ],
          "choropleth": [
           {
            "colorbar": {
             "outlinewidth": 0,
             "ticks": ""
            },
            "type": "choropleth"
           }
          ],
          "contour": [
           {
            "colorbar": {
             "outlinewidth": 0,
             "ticks": ""
            },
            "colorscale": [
             [
              0,
              "#0d0887"
             ],
             [
              0.1111111111111111,
              "#46039f"
             ],
             [
              0.2222222222222222,
              "#7201a8"
             ],
             [
              0.3333333333333333,
              "#9c179e"
             ],
             [
              0.4444444444444444,
              "#bd3786"
             ],
             [
              0.5555555555555556,
              "#d8576b"
             ],
             [
              0.6666666666666666,
              "#ed7953"
             ],
             [
              0.7777777777777778,
              "#fb9f3a"
             ],
             [
              0.8888888888888888,
              "#fdca26"
             ],
             [
              1,
              "#f0f921"
             ]
            ],
            "type": "contour"
           }
          ],
          "contourcarpet": [
           {
            "colorbar": {
             "outlinewidth": 0,
             "ticks": ""
            },
            "type": "contourcarpet"
           }
          ],
          "heatmap": [
           {
            "colorbar": {
             "outlinewidth": 0,
             "ticks": ""
            },
            "colorscale": [
             [
              0,
              "#0d0887"
             ],
             [
              0.1111111111111111,
              "#46039f"
             ],
             [
              0.2222222222222222,
              "#7201a8"
             ],
             [
              0.3333333333333333,
              "#9c179e"
             ],
             [
              0.4444444444444444,
              "#bd3786"
             ],
             [
              0.5555555555555556,
              "#d8576b"
             ],
             [
              0.6666666666666666,
              "#ed7953"
             ],
             [
              0.7777777777777778,
              "#fb9f3a"
             ],
             [
              0.8888888888888888,
              "#fdca26"
             ],
             [
              1,
              "#f0f921"
             ]
            ],
            "type": "heatmap"
           }
          ],
          "histogram": [
           {
            "marker": {
             "pattern": {
              "fillmode": "overlay",
              "size": 10,
              "solidity": 0.2
             }
            },
            "type": "histogram"
           }
          ],
          "histogram2d": [
           {
            "colorbar": {
             "outlinewidth": 0,
             "ticks": ""
            },
            "colorscale": [
             [
              0,
              "#0d0887"
             ],
             [
              0.1111111111111111,
              "#46039f"
             ],
             [
              0.2222222222222222,
              "#7201a8"
             ],
             [
              0.3333333333333333,
              "#9c179e"
             ],
             [
              0.4444444444444444,
              "#bd3786"
             ],
             [
              0.5555555555555556,
              "#d8576b"
             ],
             [
              0.6666666666666666,
              "#ed7953"
             ],
             [
              0.7777777777777778,
              "#fb9f3a"
             ],
             [
              0.8888888888888888,
              "#fdca26"
             ],
             [
              1,
              "#f0f921"
             ]
            ],
            "type": "histogram2d"
           }
          ],
          "histogram2dcontour": [
           {
            "colorbar": {
             "outlinewidth": 0,
             "ticks": ""
            },
            "colorscale": [
             [
              0,
              "#0d0887"
             ],
             [
              0.1111111111111111,
              "#46039f"
             ],
             [
              0.2222222222222222,
              "#7201a8"
             ],
             [
              0.3333333333333333,
              "#9c179e"
             ],
             [
              0.4444444444444444,
              "#bd3786"
             ],
             [
              0.5555555555555556,
              "#d8576b"
             ],
             [
              0.6666666666666666,
              "#ed7953"
             ],
             [
              0.7777777777777778,
              "#fb9f3a"
             ],
             [
              0.8888888888888888,
              "#fdca26"
             ],
             [
              1,
              "#f0f921"
             ]
            ],
            "type": "histogram2dcontour"
           }
          ],
          "mesh3d": [
           {
            "colorbar": {
             "outlinewidth": 0,
             "ticks": ""
            },
            "type": "mesh3d"
           }
          ],
          "parcoords": [
           {
            "line": {
             "colorbar": {
              "outlinewidth": 0,
              "ticks": ""
             }
            },
            "type": "parcoords"
           }
          ],
          "pie": [
           {
            "automargin": true,
            "type": "pie"
           }
          ],
          "scatter": [
           {
            "fillpattern": {
             "fillmode": "overlay",
             "size": 10,
             "solidity": 0.2
            },
            "type": "scatter"
           }
          ],
          "scatter3d": [
           {
            "line": {
             "colorbar": {
              "outlinewidth": 0,
              "ticks": ""
             }
            },
            "marker": {
             "colorbar": {
              "outlinewidth": 0,
              "ticks": ""
             }
            },
            "type": "scatter3d"
           }
          ],
          "scattercarpet": [
           {
            "marker": {
             "colorbar": {
              "outlinewidth": 0,
              "ticks": ""
             }
            },
            "type": "scattercarpet"
           }
          ],
          "scattergeo": [
           {
            "marker": {
             "colorbar": {
              "outlinewidth": 0,
              "ticks": ""
             }
            },
            "type": "scattergeo"
           }
          ],
          "scattergl": [
           {
            "marker": {
             "colorbar": {
              "outlinewidth": 0,
              "ticks": ""
             }
            },
            "type": "scattergl"
           }
          ],
          "scattermap": [
           {
            "marker": {
             "colorbar": {
              "outlinewidth": 0,
              "ticks": ""
             }
            },
            "type": "scattermap"
           }
          ],
          "scattermapbox": [
           {
            "marker": {
             "colorbar": {
              "outlinewidth": 0,
              "ticks": ""
             }
            },
            "type": "scattermapbox"
           }
          ],
          "scatterpolar": [
           {
            "marker": {
             "colorbar": {
              "outlinewidth": 0,
              "ticks": ""
             }
            },
            "type": "scatterpolar"
           }
          ],
          "scatterpolargl": [
           {
            "marker": {
             "colorbar": {
              "outlinewidth": 0,
              "ticks": ""
             }
            },
            "type": "scatterpolargl"
           }
          ],
          "scatterternary": [
           {
            "marker": {
             "colorbar": {
              "outlinewidth": 0,
              "ticks": ""
             }
            },
            "type": "scatterternary"
           }
          ],
          "surface": [
           {
            "colorbar": {
             "outlinewidth": 0,
             "ticks": ""
            },
            "colorscale": [
             [
              0,
              "#0d0887"
             ],
             [
              0.1111111111111111,
              "#46039f"
             ],
             [
              0.2222222222222222,
              "#7201a8"
             ],
             [
              0.3333333333333333,
              "#9c179e"
             ],
             [
              0.4444444444444444,
              "#bd3786"
             ],
             [
              0.5555555555555556,
              "#d8576b"
             ],
             [
              0.6666666666666666,
              "#ed7953"
             ],
             [
              0.7777777777777778,
              "#fb9f3a"
             ],
             [
              0.8888888888888888,
              "#fdca26"
             ],
             [
              1,
              "#f0f921"
             ]
            ],
            "type": "surface"
           }
          ],
          "table": [
           {
            "cells": {
             "fill": {
              "color": "#EBF0F8"
             },
             "line": {
              "color": "white"
             }
            },
            "header": {
             "fill": {
              "color": "#C8D4E3"
             },
             "line": {
              "color": "white"
             }
            },
            "type": "table"
           }
          ]
         },
         "layout": {
          "annotationdefaults": {
           "arrowcolor": "#2a3f5f",
           "arrowhead": 0,
           "arrowwidth": 1
          },
          "autotypenumbers": "strict",
          "coloraxis": {
           "colorbar": {
            "outlinewidth": 0,
            "ticks": ""
           }
          },
          "colorscale": {
           "diverging": [
            [
             0,
             "#8e0152"
            ],
            [
             0.1,
             "#c51b7d"
            ],
            [
             0.2,
             "#de77ae"
            ],
            [
             0.3,
             "#f1b6da"
            ],
            [
             0.4,
             "#fde0ef"
            ],
            [
             0.5,
             "#f7f7f7"
            ],
            [
             0.6,
             "#e6f5d0"
            ],
            [
             0.7,
             "#b8e186"
            ],
            [
             0.8,
             "#7fbc41"
            ],
            [
             0.9,
             "#4d9221"
            ],
            [
             1,
             "#276419"
            ]
           ],
           "sequential": [
            [
             0,
             "#0d0887"
            ],
            [
             0.1111111111111111,
             "#46039f"
            ],
            [
             0.2222222222222222,
             "#7201a8"
            ],
            [
             0.3333333333333333,
             "#9c179e"
            ],
            [
             0.4444444444444444,
             "#bd3786"
            ],
            [
             0.5555555555555556,
             "#d8576b"
            ],
            [
             0.6666666666666666,
             "#ed7953"
            ],
            [
             0.7777777777777778,
             "#fb9f3a"
            ],
            [
             0.8888888888888888,
             "#fdca26"
            ],
            [
             1,
             "#f0f921"
            ]
           ],
           "sequentialminus": [
            [
             0,
             "#0d0887"
            ],
            [
             0.1111111111111111,
             "#46039f"
            ],
            [
             0.2222222222222222,
             "#7201a8"
            ],
            [
             0.3333333333333333,
             "#9c179e"
            ],
            [
             0.4444444444444444,
             "#bd3786"
            ],
            [
             0.5555555555555556,
             "#d8576b"
            ],
            [
             0.6666666666666666,
             "#ed7953"
            ],
            [
             0.7777777777777778,
             "#fb9f3a"
            ],
            [
             0.8888888888888888,
             "#fdca26"
            ],
            [
             1,
             "#f0f921"
            ]
           ]
          },
          "colorway": [
           "#636efa",
           "#EF553B",
           "#00cc96",
           "#ab63fa",
           "#FFA15A",
           "#19d3f3",
           "#FF6692",
           "#B6E880",
           "#FF97FF",
           "#FECB52"
          ],
          "font": {
           "color": "#2a3f5f"
          },
          "geo": {
           "bgcolor": "white",
           "lakecolor": "white",
           "landcolor": "#E5ECF6",
           "showlakes": true,
           "showland": true,
           "subunitcolor": "white"
          },
          "hoverlabel": {
           "align": "left"
          },
          "hovermode": "closest",
          "mapbox": {
           "style": "light"
          },
          "paper_bgcolor": "white",
          "plot_bgcolor": "#E5ECF6",
          "polar": {
           "angularaxis": {
            "gridcolor": "white",
            "linecolor": "white",
            "ticks": ""
           },
           "bgcolor": "#E5ECF6",
           "radialaxis": {
            "gridcolor": "white",
            "linecolor": "white",
            "ticks": ""
           }
          },
          "scene": {
           "xaxis": {
            "backgroundcolor": "#E5ECF6",
            "gridcolor": "white",
            "gridwidth": 2,
            "linecolor": "white",
            "showbackground": true,
            "ticks": "",
            "zerolinecolor": "white"
           },
           "yaxis": {
            "backgroundcolor": "#E5ECF6",
            "gridcolor": "white",
            "gridwidth": 2,
            "linecolor": "white",
            "showbackground": true,
            "ticks": "",
            "zerolinecolor": "white"
           },
           "zaxis": {
            "backgroundcolor": "#E5ECF6",
            "gridcolor": "white",
            "gridwidth": 2,
            "linecolor": "white",
            "showbackground": true,
            "ticks": "",
            "zerolinecolor": "white"
           }
          },
          "shapedefaults": {
           "line": {
            "color": "#2a3f5f"
           }
          },
          "ternary": {
           "aaxis": {
            "gridcolor": "white",
            "linecolor": "white",
            "ticks": ""
           },
           "baxis": {
            "gridcolor": "white",
            "linecolor": "white",
            "ticks": ""
           },
           "bgcolor": "#E5ECF6",
           "caxis": {
            "gridcolor": "white",
            "linecolor": "white",
            "ticks": ""
           }
          },
          "title": {
           "x": 0.05
          },
          "xaxis": {
           "automargin": true,
           "gridcolor": "white",
           "linecolor": "white",
           "ticks": "",
           "title": {
            "standoff": 15
           },
           "zerolinecolor": "white",
           "zerolinewidth": 2
          },
          "yaxis": {
           "automargin": true,
           "gridcolor": "white",
           "linecolor": "white",
           "ticks": "",
           "title": {
            "standoff": 15
           },
           "zerolinecolor": "white",
           "zerolinewidth": 2
          }
         }
        },
        "title": {
         "text": "2D Visualization of Chroma Vector Store"
        },
        "width": 800
       }
      }
     },
     "metadata": {},
     "output_type": "display_data"
    }
   ],
   "source": [
    "tsne = TSNE(n_components=2, random_state=42)\n",
    "reduced_vectors = tsne.fit_transform(vectors)\n",
    "\n",
    "fig = go.Figure(data=[go.Scatter(\n",
    "    x=reduced_vectors[:, 0],\n",
    "    y=reduced_vectors[:, 1],\n",
    "    mode='markers',\n",
    "    marker=dict(size=5, color=colors, opacity=0.8),\n",
    "    text=[f\"Type: {t}<br>Text: {d[:50]}...\" for t, d in zip(doc_types, documents)],\n",
    "    hoverinfo='text'\n",
    ")])\n",
    "\n",
    "fig.update_layout(\n",
    "    title='2D Visualization of Chroma Vector Store',\n",
    "    scene=dict(xaxis_title='x', yaxis_title='y'),\n",
    "    width=800,\n",
    "    height=600,\n",
    "    margin=dict(r=20, b=10, l=10, t=40)\n",
    ")\n",
    "\n",
    "fig.show()"
   ]
  },
  {
   "cell_type": "markdown",
   "id": "2a9a638d",
   "metadata": {},
   "source": [
    "## 5. Building the RAG Query Chain\n",
    "\n",
    "Creating a RAG query chain that combines the Gemini language model with the vector store to answer questions based on embedded documents."
   ]
  },
  {
   "cell_type": "code",
   "execution_count": 13,
   "id": "f01e22a7",
   "metadata": {},
   "outputs": [
    {
     "name": "stderr",
     "output_type": "stream",
     "text": [
      "/tmp/ipykernel_39678/3114397189.py:6: LangChainDeprecationWarning:\n",
      "\n",
      "Please see the migration guide at: https://python.langchain.com/docs/versions/migrating_memory/\n",
      "\n"
     ]
    }
   ],
   "source": [
    "llm = ChatGoogleGenerativeAI(\n",
    "    model=\"gemini-2.0-flash\",\n",
    "    temperature=0.7\n",
    ")\n",
    "\n",
    "memory = ConversationBufferWindowMemory(memory_key='chat_history', return_messages=True)\n",
    "\n",
    "retriever = vectorstore.as_retriever(search_kwargs={\"k\": 30})\n",
    "\n",
    "conversation_chain = ConversationalRetrievalChain.from_llm(\n",
    "    llm=llm,\n",
    "    retriever=retriever,\n",
    "    memory=memory\n",
    ")"
   ]
  },
  {
   "cell_type": "markdown",
   "id": "2515b8c4",
   "metadata": {},
   "source": [
    "### 5.1. Initializing LLM Model and Query Chain"
   ]
  },
  {
   "cell_type": "code",
   "execution_count": 14,
   "id": "259e01c8",
   "metadata": {},
   "outputs": [],
   "source": [
    "def test_query_performance():\n",
    "    \"\"\"Test query with timing\"\"\"\n",
    "    query = \"Can you briefly describe the Korea Study Center?\"\n",
    "    start_time = time.time()\n",
    "    result = conversation_chain.invoke({\"question\": query})\n",
    "    end_time = time.time()\n",
    "    \n",
    "    print(f\"Query processed in {end_time - start_time:.2f} seconds\")\n",
    "    print(\"Answer:\", result[\"answer\"])\n",
    "    if \"source_documents\" in result:\n",
    "        print(f\"Used {len(result['source_documents'])} source documents\")"
   ]
  },
  {
   "cell_type": "code",
   "execution_count": 15,
   "id": "473999cd",
   "metadata": {},
   "outputs": [
    {
     "name": "stderr",
     "output_type": "stream",
     "text": [
      "/home/hoangvu/RAG-with-LangChain/venv/lib/python3.10/site-packages/torch/nn/modules/module.py:1762: FutureWarning:\n",
      "\n",
      "`encoder_attention_mask` is deprecated and will be removed in version 4.55.0 for `BertSdpaSelfAttention.forward`.\n",
      "\n"
     ]
    },
    {
     "name": "stdout",
     "output_type": "stream",
     "text": [
      "Query processed in 2.81 seconds\n",
      "Answer: Based on the information provided, here's a summary of the Korea Study Consultant Center Vietnam:\n",
      "\n",
      "*   **Services:** They provide educational consulting services for Vietnamese students who want to study in Korea.\n",
      "*   **Expertise:** They specialize in helping students get into top Korean universities, especially for Master's and PhD programs. They have a high success rate with KGSP scholarships and placements in STEM fields.\n",
      "*   **Network:** They have connections with rectors/presidents of 15+ top Korean universities, international affairs officers, faculty members, and government officials.\n",
      "*   **Achievements:** They've supported 450+ Vietnamese students, have a high scholarship success rate, developed specialized training programs, and published research on international education.\n",
      "*   **Contact:** Hotline, email, Zalo, and Facebook are provided for contact.\n"
     ]
    }
   ],
   "source": [
    "test_query_performance()"
   ]
  },
  {
   "cell_type": "markdown",
   "id": "1937aab6",
   "metadata": {},
   "source": [
    "### 5.2. Initializing Chat Interface with Gradio"
   ]
  },
  {
   "cell_type": "code",
   "execution_count": 16,
   "id": "a34af024",
   "metadata": {},
   "outputs": [],
   "source": [
    "memory = ConversationBufferWindowMemory(memory_key='chat_history', return_messages=True)\n",
    "conversation_chain = ConversationalRetrievalChain.from_llm(llm=llm, retriever=retriever, memory=memory)"
   ]
  },
  {
   "cell_type": "code",
   "execution_count": 17,
   "id": "cbaca049",
   "metadata": {},
   "outputs": [],
   "source": [
    "def chat(message, history):\n",
    "    result = conversation_chain.invoke({\"question\": message})\n",
    "    return result[\"answer\"]"
   ]
  },
  {
   "cell_type": "code",
   "execution_count": 18,
   "id": "79f4a315",
   "metadata": {},
   "outputs": [
    {
     "name": "stdout",
     "output_type": "stream",
     "text": [
      "* Running on local URL:  http://127.0.0.1:7860\n",
      "* To create a public link, set `share=True` in `launch()`.\n"
     ]
    },
    {
     "data": {
      "text/html": [
       "<div><iframe src=\"http://127.0.0.1:7860/\" width=\"100%\" height=\"500\" allow=\"autoplay; camera; microphone; clipboard-read; clipboard-write;\" frameborder=\"0\" allowfullscreen></iframe></div>"
      ],
      "text/plain": [
       "<IPython.core.display.HTML object>"
      ]
     },
     "metadata": {},
     "output_type": "display_data"
    },
    {
     "name": "stderr",
     "output_type": "stream",
     "text": [
      "/home/hoangvu/RAG-with-LangChain/venv/lib/python3.10/site-packages/torch/nn/modules/module.py:1762: FutureWarning:\n",
      "\n",
      "`encoder_attention_mask` is deprecated and will be removed in version 4.55.0 for `BertSdpaSelfAttention.forward`.\n",
      "\n",
      "/home/hoangvu/RAG-with-LangChain/venv/lib/python3.10/site-packages/torch/nn/modules/module.py:1762: FutureWarning:\n",
      "\n",
      "`encoder_attention_mask` is deprecated and will be removed in version 4.55.0 for `BertSdpaSelfAttention.forward`.\n",
      "\n",
      "/home/hoangvu/RAG-with-LangChain/venv/lib/python3.10/site-packages/torch/nn/modules/module.py:1762: FutureWarning:\n",
      "\n",
      "`encoder_attention_mask` is deprecated and will be removed in version 4.55.0 for `BertSdpaSelfAttention.forward`.\n",
      "\n",
      "/home/hoangvu/RAG-with-LangChain/venv/lib/python3.10/site-packages/torch/nn/modules/module.py:1762: FutureWarning:\n",
      "\n",
      "`encoder_attention_mask` is deprecated and will be removed in version 4.55.0 for `BertSdpaSelfAttention.forward`.\n",
      "\n"
     ]
    }
   ],
   "source": [
    "import gradio as gr\n",
    "view = gr.ChatInterface(chat, type=\"messages\", theme=\"soft\").launch(inbrowser=True)"
   ]
  },
  {
   "cell_type": "markdown",
   "id": "03031f33",
   "metadata": {},
   "source": [
    "## 6. Conclusion\n",
    "\n",
    "This notebook has demonstrated how to build a complete RAG system, from loading and processing data, creating vector embeddings, to implementing an interactive query interface. This system can be expanded with different types of documents and can be fine-tuned to improve the accuracy of answers."
   ]
  }
 ],
 "metadata": {
  "kernelspec": {
   "display_name": "venv",
   "language": "python",
   "name": "python3"
  },
  "language_info": {
   "codemirror_mode": {
    "name": "ipython",
    "version": 3
   },
   "file_extension": ".py",
   "mimetype": "text/x-python",
   "name": "python",
   "nbconvert_exporter": "python",
   "pygments_lexer": "ipython3",
   "version": "3.10.12"
  }
 },
 "nbformat": 4,
 "nbformat_minor": 5
}
